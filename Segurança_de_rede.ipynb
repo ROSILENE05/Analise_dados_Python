{
  "nbformat": 4,
  "nbformat_minor": 0,
  "metadata": {
    "colab": {
      "provenance": [],
      "authorship_tag": "ABX9TyM6wqWBGHMNi1L/tPN6gsOw",
      "include_colab_link": true
    },
    "kernelspec": {
      "name": "python3",
      "display_name": "Python 3"
    },
    "language_info": {
      "name": "python"
    }
  },
  "cells": [
    {
      "cell_type": "markdown",
      "metadata": {
        "id": "view-in-github",
        "colab_type": "text"
      },
      "source": [
        "<a href=\"https://colab.research.google.com/github/ROSILENE05/Analise_dados_Python-Arquitetura_EmpresaTI/blob/main/Seguran%C3%A7a_de_rede.ipynb\" target=\"_parent\"><img src=\"https://colab.research.google.com/assets/colab-badge.svg\" alt=\"Open In Colab\"/></a>"
      ]
    },
    {
      "cell_type": "markdown",
      "source": [
        "# **Segurança de rede**\n",
        "\n",
        "### **Para proteger a rede é necessário monitorar e gerenciar.**\n",
        "\n",
        "##### **1 - Algumas ferramentas de monitoramento e gerenciamento de rede:**\n",
        "\n",
        "Simple network management protocol (SNMP é um protocolo padrão)-\n",
        "ele coleta, organiza e envia dados dos elementos da rede IP, ajudando identificar possíveis falhas. Faz parte do TCP/IP.\n",
        "\n",
        "É composto por 3 elementos:\n",
        "\n",
        "Management Information Bases (MIB) - descrevem a estrutura de gestão dos dados de um sistema de um dispositivo por meio do uso de denominaç~oes hierarquica contendo os identificadores dos objetos (OID);\n",
        "\n",
        "Manager (gerente) - realiza as coletas das informações geradas pelo agente.\n",
        "\n",
        "Agent (agente) - dispositivo que está sendo gerenciado.\n",
        "\n",
        "ZABBIX, CISCO, NAGIOS, CACTI, RRDTOOL ...\n",
        "\n",
        "NETDOT, wireshark, MTR...\n",
        "\n"
      ],
      "metadata": {
        "id": "EfdwvKu_3ZDf"
      }
    },
    {
      "cell_type": "markdown",
      "source": [
        "# **2 - Usar FIREWALL**\n",
        "\n",
        "Cybermap - kaspersky\n",
        "\n",
        "...\n",
        "\n",
        "Prevenção de intrusão;\n",
        "\n",
        "Antivírus e anti-spyware;\n",
        "\n",
        "Prevenção contra perda de dados;\n",
        "\n",
        "Filtragem de conteúdo."
      ],
      "metadata": {
        "id": "GnaiQ02X8ymS"
      }
    },
    {
      "cell_type": "markdown",
      "source": [
        "# **3 - Tipos de ameaças**\n",
        "\n",
        "Ransoware;\n",
        "\n",
        "Vírus e worms;\n",
        "\n",
        "registro de pressionamento de tela;\n",
        "\n",
        "cavalos de tróia;\n",
        "\n",
        "roubos de dados internos;\n",
        "\n",
        "ataque de acesso direto..."
      ],
      "metadata": {
        "id": "heilLVOR8yn8"
      }
    },
    {
      "cell_type": "markdown",
      "source": [
        "# **4 - Sistemas de detecção e prevenção**\n",
        "\n",
        "IDS - Instrusion detection system ( fica fora da banda, não fica em linha com o tráfego.\n",
        "\n",
        "IPS - Intrusion Prevent system (fica na banda, fica em linha com o tráfego.\n",
        "\n",
        "Servidor Proxy - Cliente (gera logs).\n",
        "\n"
      ],
      "metadata": {
        "id": "eR3HtksW_Hez"
      }
    },
    {
      "cell_type": "markdown",
      "source": [
        "# **5 - Defender e proteger**\n",
        "\n",
        "Firewalls;\n",
        "\n",
        "Gerenciamento de ameaças;\n",
        "\n",
        "Sistema de detecção;\n",
        "\n",
        "IA."
      ],
      "metadata": {
        "id": "VELEr8SxArnF"
      }
    },
    {
      "cell_type": "markdown",
      "source": [
        "# **6 - Ferramentas de análise de invasão ou pentest**\n",
        "\n",
        "Wireshark;\n",
        "\n",
        "EcoTRUST;\n",
        "\n",
        "NMAP..."
      ],
      "metadata": {
        "id": "mpD3rlFKBMfm"
      }
    },
    {
      "cell_type": "markdown",
      "source": [
        "# **7 - Isolamento de rede**\n",
        "\n",
        "Switches;\n",
        "\n",
        "roteadores;\n",
        "\n",
        "Configuração de VLANS\n",
        "\n",
        "-active  - é uma implementação de diretório no protocolo LDAP;\n",
        "\n",
        "-KERBEROS (protocolo)."
      ],
      "metadata": {
        "id": "69UXqZXdCN6N"
      }
    }
  ]
}