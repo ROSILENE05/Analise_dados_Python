{
  "nbformat": 4,
  "nbformat_minor": 0,
  "metadata": {
    "colab": {
      "provenance": [],
      "authorship_tag": "ABX9TyNICqAC7iAAq6i2zJFDT/k0",
      "include_colab_link": true
    },
    "kernelspec": {
      "name": "python3",
      "display_name": "Python 3"
    },
    "language_info": {
      "name": "python"
    }
  },
  "cells": [
    {
      "cell_type": "markdown",
      "metadata": {
        "id": "view-in-github",
        "colab_type": "text"
      },
      "source": [
        "<a href=\"https://colab.research.google.com/github/ROSILENE05/Analise_dados_Python-Arquitetura_EmpresaTI/blob/main/Introdu%C3%A7%C3%A3o_a_ci%C3%AAncia_de_dados.ipynb\" target=\"_parent\"><img src=\"https://colab.research.google.com/assets/colab-badge.svg\" alt=\"Open In Colab\"/></a>"
      ]
    },
    {
      "cell_type": "code",
      "execution_count": null,
      "metadata": {
        "id": "UDFdeLdo4tWd"
      },
      "outputs": [],
      "source": []
    },
    {
      "cell_type": "markdown",
      "source": [
        "# **Faculdade Metropolitana**\n",
        "### Pós-Graduação - Especialização em \"Ciência de dados e Big Data Analytics\"\n",
        "\n",
        "##### Introdução a Ciência de Dados"
      ],
      "metadata": {
        "id": "OmSdqnmi5I8N"
      }
    },
    {
      "cell_type": "code",
      "source": [
        "import io\n",
        "import requests\n",
        "import matplotlib.pyplot as plt\n",
        "import pandas as pd\n",
        "import gzip\n",
        "import seaborn as sns\n",
        "url = \"http://data.insideairbnb.com/brazil/rj/rio-de-janeiro/2020-01-21/data/listings.csv.gz\"\n",
        "\n",
        "response = requests.get(url)\n",
        "bytes_io = io.BytesIO(response.content)\n",
        "with gzip.open(bytes_io, 'rt') as read_file:\n",
        "  ds = pd.read csv(read file)\n",
        "\n",
        "# Após a coleta, os dados serão armazenados em mémoria.\n",
        "# podendo ser recuperados para obter um conhecimento no dataset sobre a quantidade\n",
        "# de colunas e linhas.\n",
        "\n",
        "\n",
        "\n"
      ],
      "metadata": {
        "colab": {
          "base_uri": "https://localhost:8080/",
          "height": 106
        },
        "collapsed": true,
        "id": "YWpn94zn5HqO",
        "outputId": "e30ce0a5-8cef-40f5-e17f-311ab10c59d4"
      },
      "execution_count": 7,
      "outputs": [
        {
          "output_type": "error",
          "ename": "SyntaxError",
          "evalue": "invalid syntax (<ipython-input-7-82f734f20658>, line 12)",
          "traceback": [
            "\u001b[0;36m  File \u001b[0;32m\"<ipython-input-7-82f734f20658>\"\u001b[0;36m, line \u001b[0;32m12\u001b[0m\n\u001b[0;31m    ds = pd.read csv(read file)\u001b[0m\n\u001b[0m                 ^\u001b[0m\n\u001b[0;31mSyntaxError\u001b[0m\u001b[0;31m:\u001b[0m invalid syntax\n"
          ]
        }
      ]
    },
    {
      "cell_type": "code",
      "source": [
        "dim = ds.shape\n",
        "print(dim)\n",
        "print(ds.columns)"
      ],
      "metadata": {
        "colab": {
          "base_uri": "https://localhost:8080/",
          "height": 176
        },
        "collapsed": true,
        "id": "EPAgfA7EPSQ2",
        "outputId": "0d38d80a-886b-4cbe-d1cc-2108de7316d6"
      },
      "execution_count": 4,
      "outputs": [
        {
          "output_type": "error",
          "ename": "NameError",
          "evalue": "name 'ds' is not defined",
          "traceback": [
            "\u001b[0;31m---------------------------------------------------------------------------\u001b[0m",
            "\u001b[0;31mNameError\u001b[0m                                 Traceback (most recent call last)",
            "\u001b[0;32m<ipython-input-4-d4da41e09ec4>\u001b[0m in \u001b[0;36m<cell line: 1>\u001b[0;34m()\u001b[0m\n\u001b[0;32m----> 1\u001b[0;31m \u001b[0mdim\u001b[0m \u001b[0;34m=\u001b[0m \u001b[0mds\u001b[0m\u001b[0;34m.\u001b[0m\u001b[0mshape\u001b[0m\u001b[0;34m\u001b[0m\u001b[0;34m\u001b[0m\u001b[0m\n\u001b[0m\u001b[1;32m      2\u001b[0m \u001b[0mprint\u001b[0m\u001b[0;34m(\u001b[0m\u001b[0mdim\u001b[0m\u001b[0;34m)\u001b[0m\u001b[0;34m\u001b[0m\u001b[0;34m\u001b[0m\u001b[0m\n\u001b[1;32m      3\u001b[0m \u001b[0mprint\u001b[0m\u001b[0;34m(\u001b[0m\u001b[0mds\u001b[0m\u001b[0;34m.\u001b[0m\u001b[0mcolumns\u001b[0m\u001b[0;34m)\u001b[0m\u001b[0;34m\u001b[0m\u001b[0;34m\u001b[0m\u001b[0m\n",
            "\u001b[0;31mNameError\u001b[0m: name 'ds' is not defined"
          ]
        }
      ]
    },
    {
      "cell_type": "code",
      "source": [
        "# organizar a retirada do sinal de dólar do campo price, para que possa\n",
        "# utilizá-lo.\n",
        "\n",
        "def remove_simbolo_monetario(x) :\n",
        "  a = x[1:]\n",
        "  result = \"\"\n",
        "  for i in a:\n",
        "    if i.isdigit() is True:\n",
        "      result = result + i\n",
        "      return result\n",
        "  ds[\"price\"] = pd.to_numeric(ds[\"price\"].apply(remove_simbolo_monetario), errors= \"ignore\")\n",
        ""
      ],
      "metadata": {
        "id": "3SysWRucPSST"
      },
      "execution_count": null,
      "outputs": []
    },
    {
      "cell_type": "code",
      "source": [
        "# Para montar um drive\n",
        "\n",
        "from google.colab import drive\n",
        "drive.mount('/content/drive')\n",
        "\n"
      ],
      "metadata": {
        "id": "OKa7AaXsYKF0"
      },
      "execution_count": null,
      "outputs": []
    },
    {
      "cell_type": "code",
      "source": [
        "# Realizar a verificação de valores de aluguéis discrepantes (outliers)\n",
        "# em relação aos valores do conjunto de dados, conforme mostra a figura 2.\n",
        "# esses dados serão descartados.\n",
        "\n",
        "plt.figure(figsize = (7,7))\n",
        "sns.set(style = \"whitegrid\")\n",
        "f = sns.displot(ds[\"price\"])"
      ],
      "metadata": {
        "id": "l0LPxx63VcRu"
      },
      "execution_count": null,
      "outputs": []
    },
    {
      "cell_type": "code",
      "source": [
        "# Com isso pode ser visualizado a dimensão dos dados e outliers, e assim, iniciar\n",
        "# os primeiros descarte por meio da análise exploratória."
      ],
      "metadata": {
        "id": "iKWZDzNIXJ86"
      },
      "execution_count": null,
      "outputs": []
    }
  ]
}